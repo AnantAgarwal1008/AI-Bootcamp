{
 "cells": [
  {
   "cell_type": "markdown",
   "id": "26f89077",
   "metadata": {},
   "source": [
    "# 📈 Tuned LSTM Stock Movement Predictor\n",
    "\n",
    "This notebook loads stock price data, creates technical indicators, prepares the data for LSTM, builds a tuned LSTM model, and evaluates its performance."
   ]
  },
  {
   "cell_type": "code",
   "execution_count": 22,
   "id": "8e24288e",
   "metadata": {},
   "outputs": [],
   "source": [
    "import pandas as pd\n",
    "import numpy as np\n",
    "import matplotlib.pyplot as plt\n",
    "from sklearn.preprocessing import MinMaxScaler\n",
    "from sklearn.metrics import accuracy_score, classification_report\n",
    "from sklearn.model_selection import train_test_split\n",
    "from tensorflow.keras.models import Sequential\n",
    "from tensorflow.keras.layers import LSTM, Dense, Dropout\n",
    "from tensorflow.keras.callbacks import EarlyStopping\n",
    "from tensorflow.keras.optimizers import Adam\n",
    "import ta  # Technical Analysis library"
   ]
  },
  {
   "cell_type": "code",
   "execution_count": 23,
   "id": "539f2db7",
   "metadata": {},
   "outputs": [],
   "source": [
    "# Load dataset\n",
    "df = pd.read_csv(\"a.csv\")\n",
    "df['Date'] = pd.to_datetime(df['Date'])\n",
    "df.sort_values('Date', inplace=True)\n",
    "\n",
    "# Add technical indicators\n",
    "df['rsi'] = ta.momentum.RSIIndicator(df['Close']).rsi()\n",
    "df['macd'] = ta.trend.MACD(df['Close']).macd()\n",
    "df['ema'] = ta.trend.EMAIndicator(df['Close']).ema_indicator()\n",
    "\n",
    "# Create features & target\n",
    "df['target'] = np.where(df['Close'].shift(-1) > df['Close'], 1, 0)\n",
    "df.dropna(inplace=True)\n",
    "\n",
    "features = ['Open', 'High', 'Low', 'Close', 'Volume', 'rsi', 'macd', 'ema']\n",
    "data = df[features]"
   ]
  },
  {
   "cell_type": "code",
   "execution_count": 24,
   "id": "a2edb60b",
   "metadata": {},
   "outputs": [],
   "source": [
    "# Scale features\n",
    "scaler = MinMaxScaler()\n",
    "scaled_data = scaler.fit_transform(data)\n",
    "\n",
    "# Create sequences\n",
    "sequence_length = 60\n",
    "X = []\n",
    "y = []\n",
    "for i in range(sequence_length, len(scaled_data)):\n",
    "    X.append(scaled_data[i-sequence_length:i])\n",
    "    y.append(df['target'].values[i])\n",
    "X = np.array(X)\n",
    "y = np.array(y)"
   ]
  },
  {
   "cell_type": "code",
   "execution_count": 25,
   "id": "f09ff82b",
   "metadata": {},
   "outputs": [],
   "source": [
    "# Train-test split\n",
    "X_train, X_test, y_train, y_test = train_test_split(\n",
    "    X, y, test_size=0.1, shuffle=False\n",
    ")"
   ]
  },
  {
   "cell_type": "code",
   "execution_count": 26,
   "id": "7e1dc101",
   "metadata": {},
   "outputs": [
    {
     "name": "stdout",
     "output_type": "stream",
     "text": [
      "Epoch 1/100\n"
     ]
    },
    {
     "name": "stderr",
     "output_type": "stream",
     "text": [
      "C:\\Users\\user\\AppData\\Roaming\\Python\\Python312\\site-packages\\keras\\src\\layers\\rnn\\rnn.py:200: UserWarning: Do not pass an `input_shape`/`input_dim` argument to a layer. When using Sequential models, prefer using an `Input(shape)` object as the first layer in the model instead.\n",
      "  super().__init__(**kwargs)\n"
     ]
    },
    {
     "name": "stdout",
     "output_type": "stream",
     "text": [
      "\u001b[1m93/93\u001b[0m \u001b[32m━━━━━━━━━━━━━━━━━━━━\u001b[0m\u001b[37m\u001b[0m \u001b[1m11s\u001b[0m 99ms/step - accuracy: 0.5072 - loss: 0.6943 - val_accuracy: 0.5030 - val_loss: 0.6949\n",
      "Epoch 2/100\n",
      "\u001b[1m93/93\u001b[0m \u001b[32m━━━━━━━━━━━━━━━━━━━━\u001b[0m\u001b[37m\u001b[0m \u001b[1m8s\u001b[0m 83ms/step - accuracy: 0.4982 - loss: 0.6940 - val_accuracy: 0.5030 - val_loss: 0.6949\n",
      "Epoch 3/100\n",
      "\u001b[1m93/93\u001b[0m \u001b[32m━━━━━━━━━━━━━━━━━━━━\u001b[0m\u001b[37m\u001b[0m \u001b[1m38s\u001b[0m 407ms/step - accuracy: 0.5008 - loss: 0.6944 - val_accuracy: 0.5030 - val_loss: 0.6933\n",
      "Epoch 4/100\n",
      "\u001b[1m93/93\u001b[0m \u001b[32m━━━━━━━━━━━━━━━━━━━━\u001b[0m\u001b[37m\u001b[0m \u001b[1m118s\u001b[0m 1s/step - accuracy: 0.5059 - loss: 0.6933 - val_accuracy: 0.5030 - val_loss: 0.6934\n",
      "Epoch 5/100\n",
      "\u001b[1m93/93\u001b[0m \u001b[32m━━━━━━━━━━━━━━━━━━━━\u001b[0m\u001b[37m\u001b[0m \u001b[1m131s\u001b[0m 1s/step - accuracy: 0.5011 - loss: 0.6933 - val_accuracy: 0.5030 - val_loss: 0.6939\n",
      "Epoch 6/100\n",
      "\u001b[1m93/93\u001b[0m \u001b[32m━━━━━━━━━━━━━━━━━━━━\u001b[0m\u001b[37m\u001b[0m \u001b[1m51s\u001b[0m 552ms/step - accuracy: 0.5117 - loss: 0.6927 - val_accuracy: 0.5030 - val_loss: 0.6931\n",
      "Epoch 7/100\n",
      "\u001b[1m93/93\u001b[0m \u001b[32m━━━━━━━━━━━━━━━━━━━━\u001b[0m\u001b[37m\u001b[0m \u001b[1m7s\u001b[0m 80ms/step - accuracy: 0.4850 - loss: 0.6940 - val_accuracy: 0.4970 - val_loss: 0.6939\n",
      "Epoch 8/100\n",
      "\u001b[1m93/93\u001b[0m \u001b[32m━━━━━━━━━━━━━━━━━━━━\u001b[0m\u001b[37m\u001b[0m \u001b[1m8s\u001b[0m 84ms/step - accuracy: 0.5130 - loss: 0.6933 - val_accuracy: 0.5030 - val_loss: 0.6933\n",
      "Epoch 9/100\n",
      "\u001b[1m93/93\u001b[0m \u001b[32m━━━━━━━━━━━━━━━━━━━━\u001b[0m\u001b[37m\u001b[0m \u001b[1m8s\u001b[0m 82ms/step - accuracy: 0.5070 - loss: 0.6936 - val_accuracy: 0.4894 - val_loss: 0.6933\n",
      "Epoch 10/100\n",
      "\u001b[1m93/93\u001b[0m \u001b[32m━━━━━━━━━━━━━━━━━━━━\u001b[0m\u001b[37m\u001b[0m \u001b[1m7s\u001b[0m 80ms/step - accuracy: 0.4979 - loss: 0.6938 - val_accuracy: 0.5030 - val_loss: 0.6933\n",
      "Epoch 11/100\n",
      "\u001b[1m93/93\u001b[0m \u001b[32m━━━━━━━━━━━━━━━━━━━━\u001b[0m\u001b[37m\u001b[0m \u001b[1m8s\u001b[0m 83ms/step - accuracy: 0.5136 - loss: 0.6929 - val_accuracy: 0.4970 - val_loss: 0.6938\n",
      "Epoch 12/100\n",
      "\u001b[1m93/93\u001b[0m \u001b[32m━━━━━━━━━━━━━━━━━━━━\u001b[0m\u001b[37m\u001b[0m \u001b[1m8s\u001b[0m 83ms/step - accuracy: 0.5145 - loss: 0.6927 - val_accuracy: 0.5030 - val_loss: 0.6932\n",
      "Epoch 13/100\n",
      "\u001b[1m93/93\u001b[0m \u001b[32m━━━━━━━━━━━━━━━━━━━━\u001b[0m\u001b[37m\u001b[0m \u001b[1m7s\u001b[0m 77ms/step - accuracy: 0.5057 - loss: 0.6933 - val_accuracy: 0.5000 - val_loss: 0.6934\n"
     ]
    }
   ],
   "source": [
    "# LSTM Model\n",
    "model = Sequential()\n",
    "model.add(LSTM(128, return_sequences=True, input_shape=(X_train.shape[1], X_train.shape[2])))\n",
    "model.add(Dropout(0.3))\n",
    "model.add(LSTM(64))\n",
    "model.add(Dropout(0.3))\n",
    "model.add(Dense(1, activation='sigmoid'))\n",
    "\n",
    "optimizer = Adam(learning_rate=0.0005)\n",
    "model.compile(loss='binary_crossentropy', optimizer=optimizer, metrics=['accuracy'])\n",
    "\n",
    "early_stop = EarlyStopping(monitor='val_loss', patience=7, restore_best_weights=True)\n",
    "\n",
    "history = model.fit(\n",
    "    X_train, y_train,\n",
    "    epochs=100,\n",
    "    batch_size=64,\n",
    "    validation_data=(X_test, y_test),\n",
    "    callbacks=[early_stop],\n",
    "    verbose=1\n",
    ")"
   ]
  },
  {
   "cell_type": "code",
   "execution_count": null,
   "id": "42bc6225",
   "metadata": {},
   "outputs": [
    {
     "name": "stdout",
     "output_type": "stream",
     "text": [
      "\u001b[1m21/21\u001b[0m \u001b[32m━━━━━━━━━━━━━━━━━━━━\u001b[0m\u001b[37m\u001b[0m \u001b[1m1s\u001b[0m 25ms/step\n",
      "Accuracy: 0.5030211480362538\n",
      "Classification Report:\n",
      "               precision    recall  f1-score   support\n",
      "\n",
      "           0       0.00      0.00      0.00       329\n",
      "           1       0.50      1.00      0.67       333\n",
      "\n",
      "    accuracy                           0.50       662\n",
      "   macro avg       0.25      0.50      0.33       662\n",
      "weighted avg       0.25      0.50      0.34       662\n",
      "\n"
     ]
    },
    {
     "name": "stderr",
     "output_type": "stream",
     "text": [
      "C:\\Users\\user\\AppData\\Roaming\\Python\\Python312\\site-packages\\sklearn\\metrics\\_classification.py:1565: UndefinedMetricWarning: Precision is ill-defined and being set to 0.0 in labels with no predicted samples. Use `zero_division` parameter to control this behavior.\n",
      "  _warn_prf(average, modifier, f\"{metric.capitalize()} is\", len(result))\n",
      "C:\\Users\\user\\AppData\\Roaming\\Python\\Python312\\site-packages\\sklearn\\metrics\\_classification.py:1565: UndefinedMetricWarning: Precision is ill-defined and being set to 0.0 in labels with no predicted samples. Use `zero_division` parameter to control this behavior.\n",
      "  _warn_prf(average, modifier, f\"{metric.capitalize()} is\", len(result))\n",
      "C:\\Users\\user\\AppData\\Roaming\\Python\\Python312\\site-packages\\sklearn\\metrics\\_classification.py:1565: UndefinedMetricWarning: Precision is ill-defined and being set to 0.0 in labels with no predicted samples. Use `zero_division` parameter to control this behavior.\n",
      "  _warn_prf(average, modifier, f\"{metric.capitalize()} is\", len(result))\n"
     ]
    },
    {
     "data": {
      "image/png": "[encoded data removed]",
      "text/plain": [
       "<Figure size 640x480 with 1 Axes>"
      ]
     },
     "metadata": {},
     "output_type": "display_data"
    }
   ],
   "source": [
    "# Evaluation\n",
    "y_pred = (model.predict(X_test) > 0.5).astype(\"int32\")\n",
    "print(\"Accuracy:\", accuracy_score(y_test, y_pred))\n",
    "print(\"Classification Report:\\n\", classification_report(y_test, y_pred))\n",
    "# Plot accuracy\n",
    "plt.plot(history.history['accuracy'], label='Train Accuracy')\n",
    "plt.plot(history.history['val_accuracy'], label='Validation Accuracy')\n",
    "plt.legend()\n",
    "plt.title('Model Accuracy over Epochs')\n",
    "plt.show()"
   ]
  },
  {
   "cell_type": "code",
   "execution_count": 28,
   "id": "cebd1ecc",
   "metadata": {},
   "outputs": [
    {
     "name": "stdout",
     "output_type": "stream",
     "text": [
      "\u001b[1m1/1\u001b[0m \u001b[32m━━━━━━━━━━━━━━━━━━━━\u001b[0m\u001b[37m\u001b[0m \u001b[1m0s\u001b[0m 36ms/step\n",
      "\n",
      "📈 Prediction for Tomorrow:\n",
      "⬅️  Price expected to go DOWN 📉\n"
     ]
    },
    {
     "name": "stderr",
     "output_type": "stream",
     "text": [
      "C:\\Users\\user\\AppData\\Roaming\\Python\\Python312\\site-packages\\sklearn\\utils\\validation.py:2739: UserWarning: X does not have valid feature names, but MinMaxScaler was fitted with feature names\n",
      "  warnings.warn(\n",
      "C:\\Users\\user\\AppData\\Local\\Temp\\ipykernel_39616\\1557592171.py:28: DeprecationWarning: Conversion of an array with ndim > 0 to a scalar is deprecated, and will error in future. Ensure you extract a single element from your array before performing this operation. (Deprecated NumPy 1.25.)\n",
      "  result = int(prediction[0] > 0.5)\n"
     ]
    }
   ],
   "source": [
    "def predict_tomorrow_movement(model, scaler):\n",
    "    # ✍️ Manually input today's values\n",
    "    open_price = 243.8\n",
    "    high_price = 249.2\n",
    "    low_price = 240.7\n",
    "    close_price = 244.3\n",
    "    volume = 1234567\n",
    "\n",
    "    # Technical indicators – dummy values or real ones you compute\n",
    "    rsi = 51.2\n",
    "    macd = 0.5\n",
    "    ema = 245.1\n",
    "\n",
    "    # Combine in the same order as used during training\n",
    "    input_features = np.array([[open_price, high_price, low_price, close_price,\n",
    "                                volume, rsi, macd, ema]])\n",
    "\n",
    "    # Scale the input\n",
    "    input_scaled = scaler.transform(input_features)\n",
    "\n",
    "    # Reshape for LSTM (3D): We have 1 sample, 60 timesteps, and 8 features.\n",
    "    # Since we have only one data point, we'll repeat it across the 60 timesteps.\n",
    "    input_scaled = np.repeat(input_scaled, 60, axis=0)  # Repeat the input for 60 timesteps\n",
    "    input_scaled = input_scaled.reshape((1, 60, input_scaled.shape[1]))  # Shape: (1, 60, 8)\n",
    "\n",
    "    # Predict\n",
    "    prediction = model.predict(input_scaled)\n",
    "    result = int(prediction[0] > 0.5)\n",
    "\n",
    "    # Output\n",
    "    print(\"\\n📈 Prediction for Tomorrow:\")\n",
    "    print(\"➡️  Price expected to go UP 📈\" if result == 1 else \"⬅️  Price expected to go DOWN 📉\")\n",
    "\n",
    "# Call the prediction function after training\n",
    "predict_tomorrow_movement(model, scaler)\n"
   ]
  }
 ],
 "metadata": {
  "kernelspec": {
   "display_name": "Python 3",
   "language": "python",
   "name": "python3"
  },
  "language_info": {
   "codemirror_mode": {
    "name": "ipython",
    "version": 3
   },
   "file_extension": ".py",
   "mimetype": "text/x-python",
   "name": "python",
   "nbconvert_exporter": "python",
   "pygments_lexer": "ipython3",
   "version": "3.12.6"
  }
 },
 "nbformat": 4,
 "nbformat_minor": 5
}
